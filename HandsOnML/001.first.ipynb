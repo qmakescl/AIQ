{
 "cells": [
  {
   "cell_type": "markdown",
   "metadata": {},
   "source": [
    "openai API를 이용하는 연습"
   ]
  },
  {
   "cell_type": "code",
   "execution_count": null,
   "metadata": {},
   "outputs": [],
   "source": [
    "# Get Keys : dotenv\n",
    "import os\n",
    "from dotenv import load_dotenv\n",
    "\n",
    "load_dotenv()\n",
    "\n",
    "from openai import OpenAI\n",
    "\n",
    "client = OpenAI()"
   ]
  },
  {
   "cell_type": "markdown",
   "metadata": {},
   "source": [
    "system 에 적절한 역할을 부여하고 사용자 질문을 제시한 후 응답 가져오기"
   ]
  },
  {
   "cell_type": "code",
   "execution_count": 2,
   "metadata": {},
   "outputs": [
    {
     "data": {
      "text/plain": [
       "ChatCompletion(id='chatcmpl-BETwtZn3HJHC1KEf3Ml1bcxBxLEtV', choices=[Choice(finish_reason='stop', index=0, logprobs=None, message=ChatCompletionMessage(content='50대 남성에게 적절한 칵테일을 추천드리자면, 클래식하면서도 품위 있는 칵테일이 좋을 것 같습니다. 다음 두 가지를 제안해드립니다.\\n\\n1. **Old Fashioned**:\\n   - 재료: 버번 또는 라이 위스키, 설탕, 앙고스트라 비터스, 오렌지 필\\n   - 설명: Old Fashioned는 전통적인 칵테일로, 우아한 맛과 향이 어우러져 늦은 저녁에 즐기기에 안성맞춤입니다.\\n\\n2. **Manhattan**:\\n   - 재료: 라이 위스키(또는 버번), 스weet 베르무트, 앙고스트라 비터스\\n   - 설명: Manhattan은 깊고 풍부한 맛이 특징이며, 조금 더 세련되고 고급스러운 느낌을 제공합니다.\\n\\n이 두 가지 칵테일은 각각의 개성과 매력을 가지고 있어 저녁 시간에 좋은 선택이 될 것입니다.', refusal=None, role='assistant', annotations=[], audio=None, function_call=None, tool_calls=None))], created=1742791415, model='gpt-4o-mini-2024-07-18', object='chat.completion', service_tier='default', system_fingerprint='fp_b8bc95a0ac', usage=CompletionUsage(completion_tokens=220, prompt_tokens=48, total_tokens=268, completion_tokens_details=CompletionTokensDetails(accepted_prediction_tokens=0, audio_tokens=0, reasoning_tokens=0, rejected_prediction_tokens=0), prompt_tokens_details=PromptTokensDetails(audio_tokens=0, cached_tokens=0)))"
      ]
     },
     "execution_count": 2,
     "metadata": {},
     "output_type": "execute_result"
    }
   ],
   "source": [
    "response = client.chat.completions.create(\n",
    "    model = \"gpt-4o-mini\",\n",
    "    messages = [\n",
    "        {\"role\": \"system\", \"content\": \"당신은 유능한 비서입니다.\"},\n",
    "        {\"role\": \"user\", \"content\": \"50대의 남성에게 저녁 12시가 다되어 가는데 적절한 칵테일을 추천해줘\"},\n",
    "    ],\n",
    ")\n",
    "\n",
    "response"
   ]
  },
  {
   "cell_type": "markdown",
   "metadata": {},
   "source": [
    "응답 객체에서 openai 의 응답만 가져오기"
   ]
  },
  {
   "cell_type": "code",
   "execution_count": 3,
   "metadata": {},
   "outputs": [
    {
     "name": "stdout",
     "output_type": "stream",
     "text": [
      "50대 남성에게 적절한 칵테일을 추천드리자면, 클래식하면서도 품위 있는 칵테일이 좋을 것 같습니다. 다음 두 가지를 제안해드립니다.\n",
      "\n",
      "1. **Old Fashioned**:\n",
      "   - 재료: 버번 또는 라이 위스키, 설탕, 앙고스트라 비터스, 오렌지 필\n",
      "   - 설명: Old Fashioned는 전통적인 칵테일로, 우아한 맛과 향이 어우러져 늦은 저녁에 즐기기에 안성맞춤입니다.\n",
      "\n",
      "2. **Manhattan**:\n",
      "   - 재료: 라이 위스키(또는 버번), 스weet 베르무트, 앙고스트라 비터스\n",
      "   - 설명: Manhattan은 깊고 풍부한 맛이 특징이며, 조금 더 세련되고 고급스러운 느낌을 제공합니다.\n",
      "\n",
      "이 두 가지 칵테일은 각각의 개성과 매력을 가지고 있어 저녁 시간에 좋은 선택이 될 것입니다.\n"
     ]
    }
   ],
   "source": [
    "answer = response.choices[0].message.content\n",
    "print(answer)"
   ]
  },
  {
   "cell_type": "code",
   "execution_count": null,
   "metadata": {},
   "outputs": [],
   "source": [
    "### 대화 기록 저장하기\n",
    "\n",
    ".append()를 이용해서 리스트에 추가하는 것으로 대화 기록을 저장하는 예제\n",
    "먼저 system의 초기화 프롬프트를 진행하고 이후 질문과 답변을 추가해 간다."
   ]
  },
  {
   "cell_type": "code",
   "execution_count": 4,
   "metadata": {},
   "outputs": [
    {
     "name": "stdout",
     "output_type": "stream",
     "text": [
      "안녕하세요, Q님! 제가 어떻게 도와드릴 수 있을까요? 업무에 필요한 정보나 지원이 있다면 말씀해 주세요.\n"
     ]
    }
   ],
   "source": [
    "conversation_history = [\n",
    "    {\"role\": \"system\", \"content\": \"당신은 유능한 비서입니다.\"},\n",
    "]\n",
    "\n",
    "def chat(question):\n",
    "  conversation_history.append({\"role\": \"user\", \"content\": question})\n",
    "  response = client.chat.completions.create(\n",
    "      model = \"gpt-4o-mini\",\n",
    "      messages = conversation_history,\n",
    "  )\n",
    "\n",
    "  conversation_history.append(\n",
    "      {\"role\": \"assistant\", \"content\": response.choices[0].message.content}\n",
    "  )\n",
    "\n",
    "  print(response.choices[0].message.content)\n",
    "\n",
    "chat(\"안녕! 나의 이름은 Q이고 너의 도움을 받아 업무를 진행하고 있다\")"
   ]
  },
  {
   "cell_type": "code",
   "execution_count": 5,
   "metadata": {},
   "outputs": [
    {
     "name": "stdout",
     "output_type": "stream",
     "text": [
      "춘천에서 클라이언트 미팅을 진행하기에 좋은 장소 몇 곳을 추천드립니다:\n",
      "\n",
      "1. **춘천 쉐라톤 호텔** - 고급스러운 분위기와 함께 미팅 시설을 갖추고 있어 비즈니스 미팅에 적합합니다.\n",
      "\n",
      "2. **춘천 카페거리** - 여러 개의 카페가 밀집해 있어 편안한 분위기에서 대화를 나누기 좋습니다. 조용한 카페를 선택하면 좋을 듯합니다.\n",
      "\n",
      "3. **춘천공원** - 날씨가 좋다면 공원 내의 야외 테이블에서 미팅을 진행하는 것도 좋은 방법입니다. 자연 속에서 편안한 분위기를 느낄 수 있습니다.\n",
      "\n",
      "4. **베어스타운** - 좀 더 한적한 장소를 원하신다면 베어스타운 내의 식당이나 카페도 추천드립니다.\n",
      "\n",
      "미팅의 성격에 따라 적절한 장소를 선택해 보세요! 추가 정보나 다른 요청이 있으시면 말씀해 주세요.\n"
     ]
    }
   ],
   "source": [
    "chat(\"클라이언트와의 미팅이 오후 5시에 잡혔다. 강원도 춘천시에서 적절한 장소를 추천해줘\")"
   ]
  }
 ],
 "metadata": {
  "kernelspec": {
   "display_name": "myAI",
   "language": "python",
   "name": "python3"
  },
  "language_info": {
   "codemirror_mode": {
    "name": "ipython",
    "version": 3
   },
   "file_extension": ".py",
   "mimetype": "text/x-python",
   "name": "python",
   "nbconvert_exporter": "python",
   "pygments_lexer": "ipython3",
   "version": "3.9.21"
  }
 },
 "nbformat": 4,
 "nbformat_minor": 2
}
